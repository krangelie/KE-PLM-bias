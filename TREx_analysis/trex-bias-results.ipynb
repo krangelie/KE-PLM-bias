{
 "cells": [
  {
   "cell_type": "code",
   "execution_count": 14,
   "outputs": [],
   "source": [
    "import pickle"
   ],
   "metadata": {
    "collapsed": false,
    "pycharm": {
     "name": "#%%\n"
    }
   }
  },
  {
   "cell_type": "code",
   "execution_count": 20,
   "outputs": [],
   "source": [
    "def get_false_correct_counts(data):\n",
    "    false_count = 0\n",
    "    correct_count = 0\n",
    "    for i in range(len(data[\"list_of_results\"])):\n",
    "        if data[\"list_of_results\"][i][\"sample_Precision1\"] == 0:\n",
    "            false_count += 1\n",
    "        else:\n",
    "            correct_count += 1\n",
    "    return {\"false\": false_count, \"correct\": correct_count, \"total\": false_count + correct_count}"
   ],
   "metadata": {
    "collapsed": false,
    "pycharm": {
     "name": "#%%\n"
    }
   }
  },
  {
   "cell_type": "code",
   "execution_count": 37,
   "outputs": [],
   "source": [
    "def disparate_impact(privileged_dict, unprivileged_dict):\n",
    "    # ratio of favorable outcomes received by unprivileged / ratio of favorable outcomes received by privileged\n",
    "    # 80% rule: if a selection rate for a protected group (such as a minority group) is less than 80% with respect to the group with the highest selection rate\n",
    "    # the selection process may be considered discriminatory\n",
    "    if privileged_dict[\"correct\"] == 0:\n",
    "        print(\"Privileged group 0 correct for relation\")\n",
    "        return 0\n",
    "    else:\n",
    "        bias_score = (unprivileged_dict[\"correct\"] / unprivileged_dict[\"total\"]) / (privileged_dict[\"correct\"] / privileged_dict[\"total\"])\n",
    "        return bias_score"
   ],
   "metadata": {
    "collapsed": false,
    "pycharm": {
     "name": "#%%\n"
    }
   }
  },
  {
   "cell_type": "code",
   "execution_count": 38,
   "outputs": [],
   "source": [
    "def statistical_parity_diff(privileged_dict, unprivileged_dict):\n",
    "    # ratio of favorable outcomes received by unprivileged - ratio of favorable outcomes received by privileged\n",
    "    if privileged_dict[\"correct\"] == 0:\n",
    "        print(\"Privileged group 0 correct for relation\")\n",
    "        return 0\n",
    "    else:\n",
    "        bias_score = (unprivileged_dict[\"correct\"] / unprivileged_dict[\"total\"]) - (privileged_dict[\"correct\"] / privileged_dict[\"total\"])\n",
    "        return bias_score"
   ],
   "metadata": {
    "collapsed": false,
    "pycharm": {
     "name": "#%%\n"
    }
   }
  },
  {
   "cell_type": "code",
   "execution_count": 66,
   "outputs": [],
   "source": [
    "def cdd(privileged_dict, unprivileged_dict):\n",
    "     if privileged_dict[\"correct\"] == 0:\n",
    "        print(\"Privileged group 0 correct for relation\")\n",
    "        return {\"DD_unpriv\": 0, \"DD_priv\": 0}\n",
    "     elif unprivileged_dict[\"correct\"] == 0:\n",
    "        print(\"Unprivileged group 0 correct for relation\")\n",
    "        return {\"DD_unpriv\": 0, \"DD_priv\": 0}\n",
    "     else:\n",
    "        total_false = unprivileged_dict[\"false\"] + privileged_dict[\"false\"]\n",
    "        total_correct = unprivileged_dict[\"correct\"] + privileged_dict[\"correct\"]\n",
    "        DD_unpriv = (unprivileged_dict[\"false\"] / total_false) - (unprivileged_dict[\"correct\"] / total_correct)\n",
    "        DD_priv = (privileged_dict[\"false\"] / total_false) - (privileged_dict[\"correct\"] / total_correct)\n",
    "        return {\"DD_unpriv\": DD_unpriv, \"DD_priv\": DD_priv}\n",
    "    # Conditional Demographic Disparity (CDD)\n"
   ],
   "metadata": {
    "collapsed": false,
    "pycharm": {
     "name": "#%%\n"
    }
   }
  },
  {
   "cell_type": "code",
   "execution_count": 51,
   "outputs": [],
   "source": [
    "import os, json\n",
    "import numpy as np\n",
    "model_list = [\"colake\", \"kepler\", \"roberta-base\"]\n",
    "base_path = \"../LAMA-results/lama-bias/gender\"\n"
   ],
   "metadata": {
    "collapsed": false,
    "pycharm": {
     "name": "#%%\n"
    }
   }
  },
  {
   "cell_type": "code",
   "execution_count": 67,
   "outputs": [
    {
     "name": "stdout",
     "output_type": "stream",
     "text": [
      "Processing relation P101\n",
      "Processing relation P106\n",
      "Unprivileged group 0 correct for relation\n",
      "Processing relation P108\n",
      "Processing relation P19\n",
      "Processing relation P20\n",
      "Processing relation P27\n",
      "Privileged group 0 correct for relation\n",
      "Privileged group 0 correct for relation\n",
      "Privileged group 0 correct for relation\n",
      "Processing relation P1412\n",
      "Processing relation P103\n",
      "Processing relation P937\n",
      "Processing relation P413\n",
      "Privileged group 0 correct for relation\n",
      "Privileged group 0 correct for relation\n",
      "Privileged group 0 correct for relation\n",
      "{'DD_unpriv': 0.026282323018228082, 'DD_priv': -0.02628232301822797}\n",
      "{'DD_unpriv': 0.026282323018228082, 'DD_priv': -0.02628232301822797}\n",
      "Processing relation P101\n",
      "Unprivileged group 0 correct for relation\n",
      "Processing relation P106\n",
      "Unprivileged group 0 correct for relation\n",
      "Processing relation P108\n",
      "Processing relation P19\n",
      "Processing relation P20\n",
      "Processing relation P27\n",
      "Privileged group 0 correct for relation\n",
      "Privileged group 0 correct for relation\n",
      "Privileged group 0 correct for relation\n",
      "Processing relation P1412\n",
      "Processing relation P103\n",
      "Processing relation P937\n",
      "Privileged group 0 correct for relation\n",
      "Privileged group 0 correct for relation\n",
      "Privileged group 0 correct for relation\n",
      "Processing relation P413\n",
      "Privileged group 0 correct for relation\n",
      "Privileged group 0 correct for relation\n",
      "Privileged group 0 correct for relation\n",
      "{'DD_unpriv': -0.03355258786791576, 'DD_priv': 0.033552587867915706}\n",
      "{'DD_unpriv': -0.03355258786791576, 'DD_priv': 0.033552587867915706}\n",
      "Processing relation P101\n",
      "Unprivileged group 0 correct for relation\n",
      "Processing relation P106\n",
      "Privileged group 0 correct for relation\n",
      "Privileged group 0 correct for relation\n",
      "Privileged group 0 correct for relation\n",
      "Processing relation P108\n",
      "Unprivileged group 0 correct for relation\n",
      "Processing relation P19\n",
      "Processing relation P20\n",
      "Processing relation P27\n",
      "Privileged group 0 correct for relation\n",
      "Privileged group 0 correct for relation\n",
      "Privileged group 0 correct for relation\n",
      "Processing relation P1412\n",
      "Processing relation P103\n",
      "Processing relation P937\n",
      "Processing relation P413\n",
      "Privileged group 0 correct for relation\n",
      "Privileged group 0 correct for relation\n",
      "Privileged group 0 correct for relation\n",
      "{'DD_unpriv': -0.14981178935930767, 'DD_priv': 0.14981178935930772}\n",
      "{'DD_unpriv': -0.14981178935930767, 'DD_priv': 0.14981178935930772}\n",
      "Processing relation P101\n",
      "Processing relation P106\n",
      "Unprivileged group 0 correct for relation\n",
      "Processing relation P108\n",
      "Processing relation P19\n",
      "Processing relation P20\n",
      "Processing relation P27\n",
      "Privileged group 0 correct for relation\n",
      "Privileged group 0 correct for relation\n",
      "Privileged group 0 correct for relation\n",
      "Processing relation P1412\n",
      "Processing relation P103\n",
      "Processing relation P937\n",
      "Processing relation P413\n",
      "Privileged group 0 correct for relation\n",
      "Privileged group 0 correct for relation\n",
      "Privileged group 0 correct for relation\n",
      "{'DD_unpriv': -0.016524300441826206, 'DD_priv': 0.01652430044182629}\n",
      "{'DD_unpriv': -0.016524300441826206, 'DD_priv': 0.01652430044182629}\n",
      "Processing relation P101\n",
      "Unprivileged group 0 correct for relation\n",
      "Processing relation P106\n",
      "Unprivileged group 0 correct for relation\n",
      "Processing relation P108\n",
      "Processing relation P19\n",
      "Unprivileged group 0 correct for relation\n",
      "Processing relation P20\n",
      "Unprivileged group 0 correct for relation\n",
      "Processing relation P27\n",
      "Privileged group 0 correct for relation\n",
      "Privileged group 0 correct for relation\n",
      "Privileged group 0 correct for relation\n",
      "Processing relation P1412\n",
      "Processing relation P103\n",
      "Processing relation P937\n",
      "Processing relation P413\n",
      "Privileged group 0 correct for relation\n",
      "Privileged group 0 correct for relation\n",
      "Privileged group 0 correct for relation\n",
      "{'DD_unpriv': 0, 'DD_priv': 0}\n",
      "{'DD_unpriv': 0, 'DD_priv': 0}\n",
      "Processing relation P101\n",
      "Unprivileged group 0 correct for relation\n",
      "Processing relation P106\n",
      "Unprivileged group 0 correct for relation\n",
      "Processing relation P108\n",
      "Processing relation P19\n",
      "Processing relation P20\n",
      "Processing relation P27\n",
      "Privileged group 0 correct for relation\n",
      "Privileged group 0 correct for relation\n",
      "Privileged group 0 correct for relation\n",
      "Processing relation P1412\n",
      "Processing relation P103\n",
      "Processing relation P937\n",
      "Processing relation P413\n",
      "Privileged group 0 correct for relation\n",
      "Privileged group 0 correct for relation\n",
      "Privileged group 0 correct for relation\n",
      "{'DD_unpriv': 0.014339656567472797, 'DD_priv': -0.014339656567472825}\n",
      "{'DD_unpriv': 0.014339656567472797, 'DD_priv': -0.014339656567472825}\n",
      "Processing relation P101\n",
      "Unprivileged group 0 correct for relation\n",
      "Processing relation P106\n",
      "Unprivileged group 0 correct for relation\n",
      "Processing relation P108\n",
      "Processing relation P19\n",
      "Processing relation P20\n",
      "Privileged group 0 correct for relation\n",
      "Privileged group 0 correct for relation\n",
      "Privileged group 0 correct for relation\n",
      "Processing relation P27\n",
      "Privileged group 0 correct for relation\n",
      "Privileged group 0 correct for relation\n",
      "Privileged group 0 correct for relation\n",
      "Processing relation P1412\n",
      "Processing relation P103\n",
      "Processing relation P937\n",
      "Processing relation P413\n",
      "Privileged group 0 correct for relation\n",
      "Privileged group 0 correct for relation\n",
      "Privileged group 0 correct for relation\n",
      "{'DD_unpriv': 0.08628291488058787, 'DD_priv': -0.08628291488058781}\n",
      "{'DD_unpriv': 0.08628291488058787, 'DD_priv': -0.08628291488058781}\n"
     ]
    }
   ],
   "source": [
    "for model in model_list:\n",
    "    relations = [dir_name for dir_name in os.listdir(os.path.join(base_path, \"female\", model)) if dir_name.startswith(\"P\")]\n",
    "    results_dict = {}\n",
    "    overall_counts = {\"female\": {\"false\": 0, \"correct\": 0, \"total\": 0}, \"male\": {\"false\": 0, \"correct\": 0, \"total\": 0}}\n",
    "    for relation in relations:\n",
    "        print(\"Processing relation\", relation)\n",
    "        results_dict[relation] = {}\n",
    "        with open(os.path.join(base_path, 'female', model, relation, 'result.pkl'), 'rb') as f:\n",
    "            data = pickle.load(f)\n",
    "            female_dict = get_false_correct_counts(data)\n",
    "\n",
    "        with open(os.path.join(base_path, 'male', model, relation, 'result.pkl'), 'rb') as f:\n",
    "            data = pickle.load(f)\n",
    "            male_dict = get_false_correct_counts(data)\n",
    "\n",
    "        for key in overall_counts[\"female\"].keys():\n",
    "            overall_counts[\"female\"][key] += female_dict[key]\n",
    "        for key in overall_counts[\"male\"].keys():\n",
    "            overall_counts[\"male\"][key] += male_dict[key]\n",
    "\n",
    "        results_dict[relation][\"disparate_impact\"] = disparate_impact(male_dict, female_dict)\n",
    "        results_dict[relation][\"stat_parity_diff\"] = statistical_parity_diff(male_dict, female_dict)\n",
    "        results_dict[relation][\"cdd\"] = cdd(male_dict, female_dict)\n",
    "\n",
    "    overall_counts[\"micro_disparate_impact\"] = disparate_impact(overall_counts[\"male\"], overall_counts[\"female\"])\n",
    "    overall_counts[\"micro_stat_parity_diff\"] = statistical_parity_diff(overall_counts[\"male\"], overall_counts[\"female\"])\n",
    "    overall_counts[\"micro_cdd\"] = cdd(overall_counts[\"male\"], overall_counts[\"female\"])\n",
    "    overall_counts[\"macro_avg_disparate_impact\"] = np.mean([results_dict[relation][\"disparate_impact\"] for relation in relations])\n",
    "    overall_counts[\"macro_avg_stat_parity_diff\"] = np.mean([results_dict[relation][\"stat_parity_diff\"] for relation in relations])\n",
    "    overall_counts[\"macro_avg_cdd\"] = {}\n",
    "    for priv in [\"DD_unpriv\", \"DD_priv\"]:\n",
    "        overall_counts[\"macro_avg_cdd\"][priv] = np.mean([results_dict[relation][\"cdd\"][priv] for relation in relations])\n",
    "\n",
    "    merged_dict = {}\n",
    "    merged_dict[\"by_relation\"] = results_dict\n",
    "    merged_dict[\"overall\"] = overall_counts\n",
    "    with open(os.path.join(base_path, f\"{model}_bias-scores.json\"), \"w\") as outfile:\n",
    "        json.dump(merged_dict, outfile)"
   ],
   "metadata": {
    "collapsed": false,
    "pycharm": {
     "name": "#%%\n"
    }
   }
  },
  {
   "cell_type": "markdown",
   "source": [],
   "metadata": {
    "collapsed": false
   }
  }
 ],
 "metadata": {
  "kernelspec": {
   "display_name": "Python 3",
   "language": "python",
   "name": "python3"
  },
  "language_info": {
   "codemirror_mode": {
    "name": "ipython",
    "version": 2
   },
   "file_extension": ".py",
   "mimetype": "text/x-python",
   "name": "python",
   "nbconvert_exporter": "python",
   "pygments_lexer": "ipython2",
   "version": "2.7.6"
  }
 },
 "nbformat": 4,
 "nbformat_minor": 0
}