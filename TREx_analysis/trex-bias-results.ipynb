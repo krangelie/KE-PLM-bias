{
 "cells": [
  {
   "cell_type": "code",
   "execution_count": 14,
   "outputs": [],
   "source": [
    "import pickle"
   ],
   "metadata": {
    "collapsed": false,
    "pycharm": {
     "name": "#%%\n"
    }
   }
  },
  {
   "cell_type": "code",
   "execution_count": 20,
   "outputs": [],
   "source": [
    "def get_false_correct_counts(data):\n",
    "    false_count = 0\n",
    "    correct_count = 0\n",
    "    for i in range(len(data[\"list_of_results\"])):\n",
    "        if data[\"list_of_results\"][i][\"sample_Precision1\"] == 0:\n",
    "            false_count += 1\n",
    "        else:\n",
    "            correct_count += 1\n",
    "    return {\"false\": false_count, \"correct\": correct_count, \"total\": false_count + correct_count}"
   ],
   "metadata": {
    "collapsed": false,
    "pycharm": {
     "name": "#%%\n"
    }
   }
  },
  {
   "cell_type": "code",
   "execution_count": 37,
   "outputs": [],
   "source": [
    "def disparate_impact(privileged_dict, unprivileged_dict):\n",
    "    # ratio of favorable outcomes received by unprivileged / ratio of favorable outcomes received by privileged\n",
    "    # 80% rule: if a selection rate for a protected group (such as a minority group) is less than 80% with respect to the group with the highest selection rate\n",
    "    # the selection process may be considered discriminatory\n",
    "    if privileged_dict[\"correct\"] == 0:\n",
    "        print(\"Privileged group 0 correct for relation\")\n",
    "        return 0\n",
    "    else:\n",
    "        bias_score = (unprivileged_dict[\"correct\"] / unprivileged_dict[\"total\"]) / (privileged_dict[\"correct\"] / privileged_dict[\"total\"])\n",
    "        return bias_score"
   ],
   "metadata": {
    "collapsed": false,
    "pycharm": {
     "name": "#%%\n"
    }
   }
  },
  {
   "cell_type": "code",
   "execution_count": 38,
   "outputs": [],
   "source": [
    "def statistical_parity_diff(privileged_dict, unprivileged_dict):\n",
    "    # ratio of favorable outcomes received by unprivileged - ratio of favorable outcomes received by privileged\n",
    "    if privileged_dict[\"correct\"] == 0:\n",
    "        print(\"Privileged group 0 correct for relation\")\n",
    "        return 0\n",
    "    else:\n",
    "        bias_score = (unprivileged_dict[\"correct\"] / unprivileged_dict[\"total\"]) - (privileged_dict[\"correct\"] / privileged_dict[\"total\"])\n",
    "        return bias_score"
   ],
   "metadata": {
    "collapsed": false,
    "pycharm": {
     "name": "#%%\n"
    }
   }
  },
  {
   "cell_type": "code",
   "execution_count": 51,
   "outputs": [],
   "source": [
    "import os, json\n",
    "import numpy as np\n",
    "model_list = [\"colake\", \"kepler\", \"roberta-base\"]\n",
    "base_path = \"../LAMA-results/lama-bias/gender\"\n"
   ],
   "metadata": {
    "collapsed": false,
    "pycharm": {
     "name": "#%%\n"
    }
   }
  },
  {
   "cell_type": "code",
   "execution_count": null,
   "outputs": [],
   "source": [
    "for model in model_list:\n",
    "    relations = [dir_name for dir_name in os.listdir(os.path.join(base_path, \"female\", model)) if dir_name.startswith(\"P\")]\n",
    "    results_dict = {}\n",
    "    overall_counts = {\"female\": {\"false\": 0, \"correct\": 0, \"total\": 0}, \"male\": {\"false\": 0, \"correct\": 0, \"total\": 0}}\n",
    "    for relation in relations:\n",
    "        print(\"Processing relation\", relation)\n",
    "        results_dict[relation] = {}\n",
    "        with open(os.path.join(base_path, 'female', model, relation, 'result.pkl'), 'rb') as f:\n",
    "            data = pickle.load(f)\n",
    "            female_dict = get_false_correct_counts(data)\n",
    "\n",
    "        with open(os.path.join(base_path, 'male', model, relation, 'result.pkl'), 'rb') as f:\n",
    "            data = pickle.load(f)\n",
    "            male_dict = get_false_correct_counts(data)\n",
    "\n",
    "        for key in overall_counts[\"female\"].keys():\n",
    "            overall_counts[\"female\"][key] += female_dict[key]\n",
    "        for key in overall_counts[\"male\"].keys():\n",
    "            overall_counts[\"male\"][key] += male_dict[key]\n",
    "\n",
    "        results_dict[relation][\"disparate_impact\"] = disparate_impact(male_dict, female_dict)\n",
    "        results_dict[relation][\"stat_parity_diff\"] = statistical_parity_diff(male_dict, female_dict)\n",
    "\n",
    "    overall_counts[\"micro_disparate_impact\"] = disparate_impact(overall_counts[\"male\"], overall_counts[\"female\"])\n",
    "    overall_counts[\"micro_stat_parity_diff\"] = statistical_parity_diff(overall_counts[\"male\"], overall_counts[\"female\"])\n",
    "    overall_counts[\"macro_avg_disparate_impact\"] = np.mean([results_dict[relation][\"disparate_impact\"] for relation in relations])\n",
    "    overall_counts[\"macro_avg_stat_parity_diff\"] = np.mean([results_dict[relation][\"stat_parity_diff\"] for relation in relations])\n",
    "\n",
    "    merged_dict = {}\n",
    "    merged_dict[\"by_relation\"] = results_dict\n",
    "    merged_dict[\"overall\"] = overall_counts\n",
    "    with open(os.path.join(base_path, f\"{model}_bias-scores.json\"), \"w\") as outfile:\n",
    "        json.dump(merged_dict, outfile)"
   ],
   "metadata": {
    "collapsed": false,
    "pycharm": {
     "name": "#%%\n",
     "is_executing": true
    }
   }
  },
  {
   "cell_type": "markdown",
   "source": [],
   "metadata": {
    "collapsed": false
   }
  }
 ],
 "metadata": {
  "kernelspec": {
   "display_name": "Python 3",
   "language": "python",
   "name": "python3"
  },
  "language_info": {
   "codemirror_mode": {
    "name": "ipython",
    "version": 2
   },
   "file_extension": ".py",
   "mimetype": "text/x-python",
   "name": "python",
   "nbconvert_exporter": "python",
   "pygments_lexer": "ipython2",
   "version": "2.7.6"
  }
 },
 "nbformat": 4,
 "nbformat_minor": 0
}